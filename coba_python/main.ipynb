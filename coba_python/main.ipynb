{
 "cells": [
  {
   "cell_type": "code",
   "execution_count": 7,
   "metadata": {},
   "outputs": [],
   "source": [
    "x = int(input(\"masukan input: \"))"
   ]
  },
  {
   "cell_type": "code",
   "execution_count": 14,
   "metadata": {},
   "outputs": [
    {
     "name": "stdout",
     "output_type": "stream",
     "text": [
      "masukan input angka untuk matrix 1\n",
      "masukan angka untuk matrix 1 kolom 1 dan baris 1\n"
     ]
    },
    {
     "name": "stdout",
     "output_type": "stream",
     "text": [
      "masukan angka untuk matrix 1 kolom 2 dan baris 1\n",
      "masukan angka untuk matrix 1 kolom 1 dan baris 2\n",
      "masukan angka untuk matrix 1 kolom 2 dan baris 2\n",
      "masukan input angka untuk matrix 2\n",
      "masukan angka untuk matrix 2 kolom 1 dan baris 1\n",
      "masukan angka untuk matrix 2 kolom 2 dan baris 1\n",
      "masukan angka untuk matrix 2 kolom 1 dan baris 2\n",
      "masukan angka untuk matrix 2 kolom 2 dan baris 2\n",
      "Perkalian Matriks 2 x 2 \n",
      " n: 2\n",
      "\n",
      "isi Matriks 1 : \n",
      "3 -2\n",
      "4 5\n",
      "isi Matriks 2 : \n",
      "5 1\n",
      "-1 2\n",
      "[[17, -1], [15, 14]]\n",
      "Hasil Perkalian : \n",
      "17 -1\n",
      "15 14\n"
     ]
    }
   ],
   "source": [
    "col = x\n",
    "row = x\n",
    "\n",
    "list_matrix = []\n",
    "\n",
    "for i in range(2):\n",
    "    matrix = []\n",
    "    print(f\"masukan input angka untuk matrix {i+1}\")\n",
    "    for j in range(row):\n",
    "        list_col= []\n",
    "        for k in range(col):\n",
    "            print(f\"masukan angka untuk matrix {i+1} kolom {k+1} dan baris {j+1}\")\n",
    "            angka = int(input())\n",
    "            list_col.append(angka)\n",
    "        matrix.append(list_col)\n",
    "    \n",
    "    list_matrix.append(matrix)\n",
    "\n",
    "print(\n",
    "    f\"Perkalian Matriks {x} x {x} \\n\",\n",
    "    f\"n: {x}\\n\",    \n",
    ")\n",
    "\n",
    "for i in range(len(list_matrix)):\n",
    "    print(f\"isi Matriks {i + 1} : \")\n",
    "    for j in list_matrix[i]:\n",
    "        print(\" \".join(map(str,j)))\n",
    "\n",
    "matrix_perkalian = []\n",
    "for row in range(x):\n",
    "    elemen_1=list_matrix[0][row]\n",
    "    \n",
    "    rows = []\n",
    "    for col in range(x):\n",
    "        hasil_kali=0\n",
    "        for j in range(x):\n",
    "            hasil_kali += elemen_1[j]*list_matrix[1][j][col]\n",
    "        rows.append(hasil_kali)\n",
    "    matrix_perkalian.append(rows)\n",
    "\n",
    "print(\"Hasil Perkalian : \")\n",
    "for i in matrix_perkalian:\n",
    "    print(\" \".join(map(str,i)))"
   ]
  }
 ],
 "metadata": {
  "kernelspec": {
   "display_name": "base",
   "language": "python",
   "name": "python3"
  },
  "language_info": {
   "codemirror_mode": {
    "name": "ipython",
    "version": 3
   },
   "file_extension": ".py",
   "mimetype": "text/x-python",
   "name": "python",
   "nbconvert_exporter": "python",
   "pygments_lexer": "ipython3",
   "version": "3.11.5"
  },
  "orig_nbformat": 4
 },
 "nbformat": 4,
 "nbformat_minor": 2
}
