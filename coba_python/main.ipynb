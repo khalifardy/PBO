{
 "cells": [
  {
   "cell_type": "code",
   "execution_count": 7,
   "metadata": {},
   "outputs": [],
   "source": [
    "x = int(input(\"masukan input: \"))"
   ]
  },
  {
   "cell_type": "code",
   "execution_count": 14,
   "metadata": {},
   "outputs": [
    {
     "name": "stdout",
     "output_type": "stream",
     "text": [
      "masukan input angka untuk matrix 1\n",
      "masukan angka untuk matrix 1 kolom 1 dan baris 1\n"
     ]
    },
    {
     "name": "stdout",
     "output_type": "stream",
     "text": [
      "masukan angka untuk matrix 1 kolom 2 dan baris 1\n",
      "masukan angka untuk matrix 1 kolom 1 dan baris 2\n",
      "masukan angka untuk matrix 1 kolom 2 dan baris 2\n",
      "masukan input angka untuk matrix 2\n",
      "masukan angka untuk matrix 2 kolom 1 dan baris 1\n",
      "masukan angka untuk matrix 2 kolom 2 dan baris 1\n",
      "masukan angka untuk matrix 2 kolom 1 dan baris 2\n",
      "masukan angka untuk matrix 2 kolom 2 dan baris 2\n",
      "Perkalian Matriks 2 x 2 \n",
      " n: 2\n",
      "\n",
      "isi Matriks 1 : \n",
      "3 -2\n",
      "4 5\n",
      "isi Matriks 2 : \n",
      "5 1\n",
      "-1 2\n",
      "[[17, -1], [15, 14]]\n",
      "Hasil Perkalian : \n",
      "17 -1\n",
      "15 14\n"
     ]
    }
   ],
   "source": [
    "col = x\n",
    "row = x\n",
    "\n",
    "list_matrix = []\n",
    "\n",
    "for i in range(2):\n",
    "    matrix = []\n",
    "    print(f\"masukan input angka untuk matrix {i+1}\")\n",
    "    for j in range(row):\n",
    "        list_col= []\n",
    "        for k in range(col):\n",
    "            print(f\"masukan angka untuk matrix {i+1} kolom {k+1} dan baris {j+1}\")\n",
    "            angka = int(input())\n",
    "            list_col.append(angka)\n",
    "        matrix.append(list_col)\n",
    "    \n",
    "    list_matrix.append(matrix)\n",
    "\n",
    "print(\n",
    "    f\"Perkalian Matriks {x} x {x} \\n\",\n",
    "    f\"n: {x}\\n\",    \n",
    ")\n",
    "\n",
    "for i in range(len(list_matrix)):\n",
    "    print(f\"isi Matriks {i + 1} : \")\n",
    "    for j in list_matrix[i]:\n",
    "        print(\" \".join(map(str,j)))\n",
    "\n",
    "matrix_perkalian = []\n",
    "for row in range(x):\n",
    "    elemen_1=list_matrix[0][row]\n",
    "    \n",
    "    rows = []\n",
    "    for col in range(x):\n",
    "        hasil_kali=0\n",
    "        for j in range(x):\n",
    "            hasil_kali += elemen_1[j]*list_matrix[1][j][col]\n",
    "        rows.append(hasil_kali)\n",
    "    matrix_perkalian.append(rows)\n",
    "\n",
    "print(\"Hasil Perkalian : \")\n",
    "for i in matrix_perkalian:\n",
    "    print(\" \".join(map(str,i)))"
   ]
  },
  {
   "cell_type": "code",
   "execution_count": 22,
   "metadata": {},
   "outputs": [
    {
     "name": "stdout",
     "output_type": "stream",
     "text": [
      "2005\n"
     ]
    }
   ],
   "source": [
    "basis = int(input(\"masukan basis: \"))\n",
    "bilangan = input(\"masukan bilangan: \")\n",
    "\n",
    "dictio = {\n",
    "    'A':10,\n",
    "    'B':11,\n",
    "    'C':12,\n",
    "    'D':13,\n",
    "    'E':14,\n",
    "    'F':14\n",
    "}\n",
    "barisan_bilangan = [bilangan[i] for i in range(len(bilangan))]\n",
    "pangkat = 0\n",
    "desimal = 0\n",
    "start = len(bilangan)-1\n",
    "if basis == 2:   \n",
    "    while start>=0:\n",
    "        desimal += int(bilangan[start])*2**pangkat\n",
    "        pangkat +=1\n",
    "        start -= 1\n",
    "elif basis == 16:\n",
    "    while start>=0:\n",
    "        if bilangan[start] in ['A','B','C','D','E','F']:\n",
    "            desimal += dictio[bilangan[start]] * 16**pangkat\n",
    "        else:\n",
    "            desimal += int(bilangan[start]) * 16**pangkat\n",
    "        pangkat+=1\n",
    "        start -= 1\n",
    "\n",
    "\n",
    "print(desimal)\n"
   ]
  },
  {
   "cell_type": "code",
   "execution_count": 27,
   "metadata": {},
   "outputs": [
    {
     "name": "stdout",
     "output_type": "stream",
     "text": [
      "2 tidak ada dalam array\n",
      "16 berada di :\n",
      "baris 3 kolom 3\n",
      "5 berada di :\n",
      "baris 1 kolom 1\n",
      "baris 2 kolom 2\n",
      "baris 4 kolom 2\n"
     ]
    }
   ],
   "source": [
    "list_baris = ['A','B','C','D']\n",
    "\n",
    "list_matrix = []\n",
    "for i in list_baris:\n",
    "    deret = int(input(f\"Nilai {i} : \"))\n",
    "    rows = []\n",
    "    if i == 'A':\n",
    "        deret1 = 5\n",
    "        for j in range(deret):\n",
    "            rows.append(deret1)\n",
    "            deret1+=5\n",
    "        \n",
    "    \n",
    "    elif i == 'B':\n",
    "        deret1 = 3\n",
    "        for j in range(deret):\n",
    "            rows.append(deret1)\n",
    "            deret1+=2\n",
    "    \n",
    "    elif i == 'C':\n",
    "        deret1=2\n",
    "        for j in range(deret):\n",
    "            rows.append(deret1**2)\n",
    "            deret1 += 1\n",
    "    \n",
    "    elif i == 'D' :\n",
    "        deret1 = 4\n",
    "        for j in range(deret):\n",
    "            rows.append(deret1)\n",
    "            deret1 += 1\n",
    "    \n",
    "    list_matrix.append(rows)\n",
    "\n",
    "while True:\n",
    "    masukan = int(input(\"Bilangan yang dicari: \"))\n",
    "    if masukan == 0:\n",
    "        break\n",
    "\n",
    "    list_baris_kolom = []\n",
    "\n",
    "    for i in range(len(list_matrix)):\n",
    "        kolom_baris = []\n",
    "        if masukan in list_matrix[i]:\n",
    "            kolom_baris.append(i+1)\n",
    "            for col in range(len(list_matrix[i])):\n",
    "                if  masukan == list_matrix[i][col]:\n",
    "                    kolom_baris.append(col+1)\n",
    "        \n",
    "        if len(kolom_baris) != 0:\n",
    "            list_baris_kolom.append(kolom_baris)\n",
    "    \n",
    "    if len(list_baris_kolom)==0:\n",
    "        print(f\"{masukan} tidak ada dalam array\")\n",
    "    else:\n",
    "        print(f\"{masukan} berada di :\")\n",
    "        for i in list_baris_kolom:\n",
    "            print(f\"baris {i[0]} kolom {i[1]}\")\n",
    "\n",
    "\n"
   ]
  }
 ],
 "metadata": {
  "kernelspec": {
   "display_name": "base",
   "language": "python",
   "name": "python3"
  },
  "language_info": {
   "codemirror_mode": {
    "name": "ipython",
    "version": 3
   },
   "file_extension": ".py",
   "mimetype": "text/x-python",
   "name": "python",
   "nbconvert_exporter": "python",
   "pygments_lexer": "ipython3",
   "version": "3.11.5"
  },
  "orig_nbformat": 4
 },
 "nbformat": 4,
 "nbformat_minor": 2
}
