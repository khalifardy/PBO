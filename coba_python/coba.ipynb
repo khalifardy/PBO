{
 "cells": [
  {
   "cell_type": "code",
   "execution_count": 129,
   "metadata": {},
   "outputs": [],
   "source": [
    "class Koordinat:\n",
    "    #konstruktor\n",
    "\n",
    "    def __init__ (self,x,y):\n",
    "        self.__x = x\n",
    "        self.__y = y\n",
    "\n",
    "\n",
    "    def getx(self):\n",
    "        return self.__x\n",
    "\n",
    "    def setx(self,x):\n",
    "        self.__x = x\n",
    "\n",
    "    def gety(self):\n",
    "        return self.__y\n",
    "\n",
    "    def sety(self,y):\n",
    "        self.__y = y\n",
    "        \n",
    "    \n"
   ]
  },
  {
   "cell_type": "code",
   "execution_count": 130,
   "metadata": {},
   "outputs": [],
   "source": [
    "class Koordinat3D(Koordinat):\n",
    "    #kosntruktor\n",
    "\n",
    "    def __init__ (self,x,y,z):\n",
    "        self.setx(x)\n",
    "        self.sety(y)\n",
    "        self.__z = z\n",
    "    \n",
    "    def getz(self):\n",
    "        return self.__z\n",
    "    \n",
    "    def setz(self,z):\n",
    "        self.__z =z\n"
   ]
  },
  {
   "cell_type": "code",
   "execution_count": 131,
   "metadata": {},
   "outputs": [],
   "source": [
    "class Serangga:\n",
    "    #konstruktor\n",
    "    def __init__(self,warna):\n",
    "        self.__warna = warna\n",
    "        self.__jumlah_kaki = 6 #final attribute\n",
    "        self.__posisi = []\n",
    "\n",
    "    def getjumlahkaki(self):\n",
    "        return self.__jumlah_kaki\n",
    "    \n",
    "    def getwarna(self):\n",
    "        return self.__warna\n",
    "    \n",
    "    def gerak(self,koordinat=[]):\n",
    "        self.__posisi = koordinat\n",
    "    \n",
    "    def setwarna(self,warna):\n",
    "        self.__warna = warna\n",
    "    \n",
    "    def info(self):\n",
    "        if len(self.__posisi) == 2:\n",
    "            print(f\"X = {self.__posisi[0]} \\n Y = {self.__posisi[1]}\")\n",
    "        elif len(self.__posisi) == 3:\n",
    "            print(f\"X = {self.__posisi[0]} \\n Y = {self.__posisi[1]}\\n Z = {self.__posisi[2]}\")\n",
    "    \n"
   ]
  },
  {
   "cell_type": "code",
   "execution_count": 132,
   "metadata": {},
   "outputs": [],
   "source": [
    "from abc import ABC, abstractmethod\n",
    "class BisaTerbang(ABC):\n",
    "    @abstractmethod\n",
    "    def terbang(self,x,y,z):\n",
    "        pass"
   ]
  },
  {
   "cell_type": "code",
   "execution_count": 174,
   "metadata": {},
   "outputs": [],
   "source": [
    "class Lebah(Koordinat3D,Serangga,BisaTerbang):\n",
    "    def __init__(self,x,y,z,warna):\n",
    "        self.setx(x)\n",
    "        self.sety(y)\n",
    "        self.setz(z)\n",
    "        self.setwarna(warna)\n",
    "\n",
    "    \n",
    "    def gerak(self,koordinat):\n",
    "        self.setx(koordinat[0])\n",
    "        self.sety(koordinat[1])\n",
    "        self.setz(koordinat[2])\n",
    "    \n",
    "    def terbang(self,x,y,z):\n",
    "        self.setx(self.getx()+x)\n",
    "        self.sety(self.gety()+y)\n",
    "        self.setz(self.getz()+z)\n",
    "\n",
    "    \n",
    "    \n",
    "    def info(self):\n",
    "        print(\n",
    "            f\"Posisi Lebah : X = {self.getx()} \\n\", \n",
    "            f\"              Y = {self.gety()}\\n \",\n",
    "            f\"             Z = {self.getz()}\"\n",
    "            )\n",
    "\n",
    "    \n",
    "        \n",
    "    "
   ]
  },
  {
   "cell_type": "code",
   "execution_count": 175,
   "metadata": {},
   "outputs": [],
   "source": [
    "L = Lebah(warna=\"Kuning\",x=20,y=30,z=40)"
   ]
  },
  {
   "cell_type": "code",
   "execution_count": 176,
   "metadata": {},
   "outputs": [
    {
     "data": {
      "text/plain": [
       "'Kuning'"
      ]
     },
     "execution_count": 176,
     "metadata": {},
     "output_type": "execute_result"
    }
   ],
   "source": [
    "L.getwarna()"
   ]
  },
  {
   "cell_type": "code",
   "execution_count": 177,
   "metadata": {},
   "outputs": [
    {
     "data": {
      "text/plain": [
       "20"
      ]
     },
     "execution_count": 177,
     "metadata": {},
     "output_type": "execute_result"
    }
   ],
   "source": [
    "L.getx()"
   ]
  },
  {
   "cell_type": "code",
   "execution_count": 178,
   "metadata": {},
   "outputs": [
    {
     "name": "stdout",
     "output_type": "stream",
     "text": [
      "Posisi Lebah : X = 20 \n",
      "               Y = 30\n",
      "               Z = 40\n"
     ]
    }
   ],
   "source": [
    "L.info()"
   ]
  },
  {
   "cell_type": "code",
   "execution_count": 179,
   "metadata": {},
   "outputs": [],
   "source": [
    "L.terbang(55,65,75)"
   ]
  },
  {
   "cell_type": "code",
   "execution_count": 180,
   "metadata": {},
   "outputs": [
    {
     "name": "stdout",
     "output_type": "stream",
     "text": [
      "Posisi Lebah : X = 75 \n",
      "               Y = 95\n",
      "               Z = 115\n"
     ]
    }
   ],
   "source": [
    "L.info()"
   ]
  },
  {
   "cell_type": "code",
   "execution_count": 181,
   "metadata": {},
   "outputs": [],
   "source": [
    "class Semut(Koordinat,Serangga):\n",
    "    def __init__(self,warna,x,y):\n",
    "        self.setx(x)\n",
    "        self.sety(y)       \n",
    "        self.setwarna(warna)\n",
    "\n",
    "    \n",
    "    def gerak(self,koordinat):\n",
    "        self.setx(koordinat[0])\n",
    "        self.sety(koordinat[1])\n",
    "\n",
    "     \n",
    "    def info(self):\n",
    "        print(\n",
    "            f\"Posisi Semut : X = {self.getx()} \\n\", \n",
    "            f\"              Y = {self.gety()}\"\n",
    "            )\n",
    "\n",
    "    \n",
    "        \n",
    "    "
   ]
  },
  {
   "cell_type": "code",
   "execution_count": 182,
   "metadata": {},
   "outputs": [
    {
     "name": "stdout",
     "output_type": "stream",
     "text": [
      "Warna Semut : Hitam\n",
      "Posisi Semut : X = 60 \n",
      "               Y = 80\n",
      "Posisi Semut : X = 70 \n",
      "               Y = 90\n",
      "Warna Lebah : Hitam\n",
      "Posisi Lebah : X = 20 \n",
      "               Y = 30\n",
      "               Z = 40\n",
      "Posisi Lebah : X = 75 \n",
      "               Y = 95\n",
      "               Z = 115\n",
      "Posisi Lebah : X = 25 \n",
      "               Y = 35\n",
      "               Z = 45\n"
     ]
    }
   ],
   "source": [
    "S = Semut(\"Hitam\", 60, 80)\n",
    "print(f\"Warna Semut : {S.getwarna()}\")\n",
    "S.info()\n",
    "S.gerak([70,90])\n",
    "S.info()\n",
    "L = Lebah(warna=\"Kuning\",x=20,y=30,z=40)\n",
    "print(f\"Warna Lebah : {S.getwarna()}\")\n",
    "L.info()\n",
    "L.terbang(55,65,75)\n",
    "L.info()\n",
    "L.gerak([25,35,45])\n",
    "L.info()"
   ]
  },
  {
   "cell_type": "code",
   "execution_count": null,
   "metadata": {},
   "outputs": [],
   "source": [
    "class Mahasiswa:\n",
    "\n",
    "    def __init__(self,nim:str,nama:str,prodi:str):\n",
    "        self.__nim = nim\n",
    "        self.__nama = nama\n",
    "        self.__prodi = prodi\n",
    "    \n",
    "    def getnama(self):\n",
    "        return self.__nama\n",
    "    \n",
    "    def getnim(self):\n",
    "        return self.__nim\n",
    "    \n",
    "    def getprodi(self):\n",
    "        return self.__prodi\n",
    "    \n",
    "    "
   ]
  },
  {
   "cell_type": "code",
   "execution_count": null,
   "metadata": {},
   "outputs": [],
   "source": [
    "class Produk:\n",
    "    def __init__(self,nama:str,harga:int,stok:int):\n",
    "        self.__nama = nama\n",
    "        self.__harga = harga\n",
    "        self.__stok = stok\n",
    "    \n",
    "    def getnama(self):\n",
    "        return self.__nama\n",
    "    \n",
    "    def getharga(self):\n",
    "        return self.__harga\n",
    "    \n",
    "    def getstok(self):\n",
    "        return self.__stok"
   ]
  }
 ],
 "metadata": {
  "kernelspec": {
   "display_name": ".env",
   "language": "python",
   "name": "python3"
  },
  "language_info": {
   "codemirror_mode": {
    "name": "ipython",
    "version": 3
   },
   "file_extension": ".py",
   "mimetype": "text/x-python",
   "name": "python",
   "nbconvert_exporter": "python",
   "pygments_lexer": "ipython3",
   "version": "3.12.0"
  }
 },
 "nbformat": 4,
 "nbformat_minor": 2
}
